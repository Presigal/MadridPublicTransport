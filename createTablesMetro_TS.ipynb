{
 "cells": [
  {
   "cell_type": "code",
   "execution_count": 1,
   "metadata": {},
   "outputs": [],
   "source": [
    "import MetroDeMadrid_db #file that contains the DB connection\n",
    "import json #importing JSON to read in MetroMadridTables.JSON"
   ]
  },
  {
   "cell_type": "code",
   "execution_count": null,
   "metadata": {},
   "outputs": [],
   "source": [
    "#load in the madrid json column details into a Python dictionary\n",
    "with open('data/MetroDeMadrid/gtfs/MetroMadridTables.json', 'r') as file:\n",
    "    MetroTables = json.load(file)"
   ]
  },
  {
   "cell_type": "code",
   "execution_count": 17,
   "metadata": {},
   "outputs": [
    {
     "data": {
      "text/plain": [
       "{'stops': {'columns': {'stop_id': 'VARCHAR2(16) PRIMARY KEY',\n",
       "   'stop_code': 'stop_code NUMBER(4)',\n",
       "   'stop_name': 'VARCHAR2(64)',\n",
       "   'stop_desc': 'VARCHAR2(64)',\n",
       "   'stop_lat': 'NUMBER(9,6)',\n",
       "   'stop_lon': 'NUMBER(9,6)',\n",
       "   'zone_id': 'VARCHAR2(4)',\n",
       "   'stop_url': 'VARCHAR2(256)',\n",
       "   'location_type': 'NUMBER(1)',\n",
       "   'parent_station': 'VARCHAR2(16)',\n",
       "   'stop_timezone': 'VARCHAR2(16)',\n",
       "   'wheelchair_boarding': 'NUMBER(1)'}},\n",
       " 'agency': {'columns': {'agency_id': 'VARCHAR2(4)',\n",
       "   'agency_name': 'VARCHAR2(64)',\n",
       "   'agency_url': 'VARCHAR2(32)',\n",
       "   'agency_timezone': 'VARCHAR2(16)',\n",
       "   'agency_lang': 'VARCHAR2(2)',\n",
       "   'agency_phone': 'VARCHAR2(16)',\n",
       "   'agency_fare_url': 'VARCHAR2(32)'}},\n",
       " 'calendar': {'columns': {'service_id': 'VARCHAR2(8)',\n",
       "   'monday': 'NUMBER(1)',\n",
       "   'tuesday': 'NUMBER(1)',\n",
       "   'wednesday': 'NUMBER(1)',\n",
       "   'thursday': 'NUMBER(1)',\n",
       "   'friday': 'NUMBER(1)',\n",
       "   'saturday': 'NUMBER(1)',\n",
       "   'sunday': 'NUMBER(1)',\n",
       "   'start_date': {'type': 'DATE', 'format': 'YYYYMMDD'},\n",
       "   'end_date': {'type': 'DATE', 'format': 'YYYYMMDD'}}},\n",
       " 'calendar_dates': {'columns': {'service_id': 'VARCHAR2(8)',\n",
       "   'date': {'type': 'DATE', 'format': 'YYYYMMDD'},\n",
       "   'exception_type': 'NUMBER'}},\n",
       " 'fare_attributes': {'columns': {'fare_id': 'VARCHAR2(64)',\n",
       "   'price': 'VARCHAR2(64)',\n",
       "   'currency_type': 'VARCHAR2(64)',\n",
       "   'payment_method': 'VARCHAR2(64)',\n",
       "   'transfers': 'VARCHAR2(64)',\n",
       "   'transfer_duration': 'VARCHAR2(64)'}},\n",
       " 'fare_rules': {'columns': {'fare_id': 'VARCHAR2(64)',\n",
       "   'route_id': 'VARCHAR2(64)',\n",
       "   'origin_id': 'VARCHAR2(64)',\n",
       "   'destination_id': 'VARCHAR2(64)',\n",
       "   'contains_id': 'VARCHAR2(64)'}},\n",
       " 'feed_info': {'columns': {'feed_publisher_name': 'VARCHAR2(64)',\n",
       "   'feed_publisher_url': 'VARCHAR2(32)',\n",
       "   'feed_lang': 'VARCHAR2(2)',\n",
       "   'feed_start_date': {'type': 'DATE', 'format': 'YYYYMMDD'},\n",
       "   'feed_end_date': {'type': 'DATE', 'format': 'YYYYMMDD'},\n",
       "   'feed_version': 'VARCHAR2(16)'}},\n",
       " 'frequencies': {'columns': {'trip_id': 'VARCHAR2(32)',\n",
       "   'start_time': {'type': 'DATE', 'format': 'HH24:MI:SS'},\n",
       "   'end_time': {'type': 'DATE', 'format': 'HH24:MI:SS'},\n",
       "   'headway_secs': 'NUMBER(4)',\n",
       "   'exact_times': 'NUMBER(1)'}},\n",
       " 'routes': {'columns': {'route_id': 'VARCHAR2(8)',\n",
       "   'agency_id': 'VARCHAR2(4)',\n",
       "   'route_short_name': 'VARCHAR2(1)',\n",
       "   'route_long_name': 'VARCHAR2(64)',\n",
       "   'route_desc': 'VARCHAR2(64)',\n",
       "   'route_type': 'NUMBER',\n",
       "   'route_url': 'VARCHAR2(32)',\n",
       "   'route_color': 'VARCHAR2(8)',\n",
       "   'route_text_color': 'VARCHAR2(8)'}},\n",
       " 'shapes': {'columns': {'shape_id': 'VARCHAR2(32)',\n",
       "   'shape_pt_lat': 'NUMBER(15, 13)',\n",
       "   'shape_pt_lon': 'NUMBER(15, 13)',\n",
       "   'shape_pt_sequence': 'NUMBER(8)',\n",
       "   'shape_dist_traveled': 'NUMBER(14,11)'}},\n",
       " 'stop_times': {'columns': {'trip_id': 'VARCHAR2(32)',\n",
       "   'arrival_time': {'type': 'INTERVAL DAY TO SECOND', 'format': 'HH24:MI:SS'},\n",
       "   'departure_time': {'type': 'INTERVAL DAY TO SECOND',\n",
       "    'format': 'HH24:MI:SS'},\n",
       "   'stop_id': 'VARCHAR2(16)',\n",
       "   'stop_sequence': 'NUMBER(2)',\n",
       "   'stop_headsign': 'VARCHAR2(255)',\n",
       "   'pickup_type': 'NUMBER(1)',\n",
       "   'drop_off_type': 'NUMBER(1)',\n",
       "   'shape_dist_traveled': 'NUMBER(10,6)'}},\n",
       " 'trips': {'columns': {'route_id': 'VARCHAR2(8)',\n",
       "   'service_id': 'VARCHAR2(64)',\n",
       "   'trip_id': 'VARCHAR2(32)',\n",
       "   'trip_headsign': 'VARCHAR2(32)',\n",
       "   'trip_short_name': 'NUMBER(2)',\n",
       "   'direction_id': 'NUMBER(2)',\n",
       "   'block_id': 'VARCHAR2(64)',\n",
       "   'shape_id': 'VARCHAR2(32)',\n",
       "   'wheelchair_accessible': 'NUMBER(1)'}}}"
      ]
     },
     "execution_count": 17,
     "metadata": {},
     "output_type": "execute_result"
    }
   ],
   "source": [
    "MetroTables"
   ]
  },
  {
   "cell_type": "code",
   "execution_count": 13,
   "metadata": {},
   "outputs": [
    {
     "name": "stdout",
     "output_type": "stream",
     "text": [
      "VARCHAR2(16) PRIMARY KEY\n"
     ]
    }
   ],
   "source": [
    "print(MetroTables['stops']['columns']['stop_id'])"
   ]
  },
  {
   "cell_type": "code",
   "execution_count": 15,
   "metadata": {},
   "outputs": [],
   "source": [
    "#This for loop is to iterate through the dictionary and making a seperate dictionary just containing the columns\n",
    "for table_name, table_details in MetroTables.items():\n",
    "    MetroColumns = table_details[\"columns\"]"
   ]
  },
  {
   "cell_type": "code",
   "execution_count": 16,
   "metadata": {},
   "outputs": [
    {
     "data": {
      "text/plain": [
       "{'route_id': 'VARCHAR2(8)',\n",
       " 'service_id': 'VARCHAR2(64)',\n",
       " 'trip_id': 'VARCHAR2(32)',\n",
       " 'trip_headsign': 'VARCHAR2(32)',\n",
       " 'trip_short_name': 'NUMBER(2)',\n",
       " 'direction_id': 'NUMBER(2)',\n",
       " 'block_id': 'VARCHAR2(64)',\n",
       " 'shape_id': 'VARCHAR2(32)',\n",
       " 'wheelchair_accessible': 'NUMBER(1)'}"
      ]
     },
     "execution_count": 16,
     "metadata": {},
     "output_type": "execute_result"
    }
   ],
   "source": [
    "MetroColumns"
   ]
  },
  {
   "cell_type": "code",
   "execution_count": 14,
   "metadata": {},
   "outputs": [
    {
     "name": "stdout",
     "output_type": "stream",
     "text": [
      "connection established!\n"
     ]
    }
   ],
   "source": [
    "connection = MetroDeMadrid_db.get_connection()  #connecting to the database. Imported the function for security\n",
    "cursor = connection.cursor()    #initializing the cursor\n",
    "print(\"connection established!\")"
   ]
  },
  {
   "cell_type": "code",
   "execution_count": null,
   "metadata": {},
   "outputs": [],
   "source": [
    "# Construct the CREATE TABLE SQL statement\n",
    "columns_definitions = \", \".join([f\"{col} {dtype}\" for col, dtype in columns.items()])\n",
    "create_table_sql = f\"CREATE TABLE {MetroTables} ({columns_definitions})\"\n",
    "\n",
    "try:\n",
    "    cursor.execute(create_table_sql)\n",
    "    print(f\"Table {table_name} created successfully.\")\n",
    "except oracledb.DatabaseError as e:\n",
    "    print(f\"Error creating table {table_name}: {e}\")\n",
    "\n",
    "# Commit the changes and close the connection\n",
    "connection.commit()\n",
    "cursor.close()\n",
    "connection.close()"
   ]
  }
 ],
 "metadata": {
  "kernelspec": {
   "display_name": "Python 3",
   "language": "python",
   "name": "python3"
  },
  "language_info": {
   "codemirror_mode": {
    "name": "ipython",
    "version": 3
   },
   "file_extension": ".py",
   "mimetype": "text/x-python",
   "name": "python",
   "nbconvert_exporter": "python",
   "pygments_lexer": "ipython3",
   "version": "3.13.1"
  }
 },
 "nbformat": 4,
 "nbformat_minor": 2
}
