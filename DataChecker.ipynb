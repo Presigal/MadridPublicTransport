{
 "cells": [
  {
   "cell_type": "code",
   "execution_count": 43,
   "metadata": {},
   "outputs": [],
   "source": [
    "#This file's intention is to connect the stops for Madrid's Metro to our database. \n",
    "#It will be using Pandas to handle the dataframes (and to load into Oracle), os to check if the files exist, and oracledb to connect to the database itself.\n",
    "#For the time being, we will only be focusing on stops.txt"
   ]
  },
  {
   "cell_type": "code",
   "execution_count": 63,
   "metadata": {},
   "outputs": [],
   "source": [
    "import pandas as pd #for handling the dataframe\n",
    "import os #used to check if file exsisted in the intended directory\n",
    "import oracledb #to connect database\n",
    "import MetroDeMadrid_db #importing db connection for security"
   ]
  },
  {
   "cell_type": "code",
   "execution_count": 45,
   "metadata": {},
   "outputs": [
    {
     "data": {
      "text/plain": [
       "True"
      ]
     },
     "execution_count": 45,
     "metadata": {},
     "output_type": "execute_result"
    }
   ],
   "source": [
    "file_path = 'data/MetroDeMadrid/gtfs/stops.txt' #directory\n",
    "\n",
    "os.path.exists(file_path) #checking if the file path exists"
   ]
  },
  {
   "cell_type": "code",
   "execution_count": 46,
   "metadata": {},
   "outputs": [
    {
     "data": {
      "text/html": [
       "<div>\n",
       "<style scoped>\n",
       "    .dataframe tbody tr th:only-of-type {\n",
       "        vertical-align: middle;\n",
       "    }\n",
       "\n",
       "    .dataframe tbody tr th {\n",
       "        vertical-align: top;\n",
       "    }\n",
       "\n",
       "    .dataframe thead th {\n",
       "        text-align: right;\n",
       "    }\n",
       "</style>\n",
       "<table border=\"1\" class=\"dataframe\">\n",
       "  <thead>\n",
       "    <tr style=\"text-align: right;\">\n",
       "      <th></th>\n",
       "      <th>stop_id</th>\n",
       "      <th>stop_code</th>\n",
       "      <th>stop_name</th>\n",
       "      <th>stop_desc</th>\n",
       "      <th>stop_lat</th>\n",
       "      <th>stop_lon</th>\n",
       "      <th>zone_id</th>\n",
       "      <th>stop_url</th>\n",
       "      <th>location_type</th>\n",
       "      <th>parent_station</th>\n",
       "      <th>stop_timezone</th>\n",
       "      <th>wheelchair_boarding</th>\n",
       "    </tr>\n",
       "  </thead>\n",
       "  <tbody>\n",
       "    <tr>\n",
       "      <th>0</th>\n",
       "      <td>par_4_1</td>\n",
       "      <td>1</td>\n",
       "      <td>PLAZA DE CASTILLA</td>\n",
       "      <td>Paseo de la Castellana 189</td>\n",
       "      <td>40.46690</td>\n",
       "      <td>-3.68917</td>\n",
       "      <td>A</td>\n",
       "      <td>http://www.crtm.es</td>\n",
       "      <td>0</td>\n",
       "      <td>est_90_21</td>\n",
       "      <td>NaN</td>\n",
       "      <td>0</td>\n",
       "    </tr>\n",
       "    <tr>\n",
       "      <th>1</th>\n",
       "      <td>acc_4_1_1</td>\n",
       "      <td>1</td>\n",
       "      <td>Plaza de Castilla</td>\n",
       "      <td>Paseo de la Castellana 189</td>\n",
       "      <td>40.46682</td>\n",
       "      <td>-3.68918</td>\n",
       "      <td>NaN</td>\n",
       "      <td>http://www.crtm.es</td>\n",
       "      <td>2</td>\n",
       "      <td>est_90_21</td>\n",
       "      <td>NaN</td>\n",
       "      <td>0</td>\n",
       "    </tr>\n",
       "    <tr>\n",
       "      <th>2</th>\n",
       "      <td>acc_4_1_1040</td>\n",
       "      <td>1</td>\n",
       "      <td>Ascensor</td>\n",
       "      <td>Plaza de Castilla 9</td>\n",
       "      <td>40.46555</td>\n",
       "      <td>-3.68877</td>\n",
       "      <td>NaN</td>\n",
       "      <td>http://www.crtm.es</td>\n",
       "      <td>2</td>\n",
       "      <td>est_90_21</td>\n",
       "      <td>NaN</td>\n",
       "      <td>0</td>\n",
       "    </tr>\n",
       "    <tr>\n",
       "      <th>3</th>\n",
       "      <td>acc_4_1_1043</td>\n",
       "      <td>1</td>\n",
       "      <td>Intercambiador Superficie</td>\n",
       "      <td>Paseo de la Castellana 191 B</td>\n",
       "      <td>40.46728</td>\n",
       "      <td>-3.68915</td>\n",
       "      <td>NaN</td>\n",
       "      <td>http://www.crtm.es</td>\n",
       "      <td>2</td>\n",
       "      <td>est_90_21</td>\n",
       "      <td>NaN</td>\n",
       "      <td>0</td>\n",
       "    </tr>\n",
       "    <tr>\n",
       "      <th>4</th>\n",
       "      <td>acc_4_1_1044</td>\n",
       "      <td>1</td>\n",
       "      <td>Ascensor</td>\n",
       "      <td>Paseo de la Castellana 189</td>\n",
       "      <td>40.46702</td>\n",
       "      <td>-3.68918</td>\n",
       "      <td>NaN</td>\n",
       "      <td>http://www.crtm.es</td>\n",
       "      <td>2</td>\n",
       "      <td>est_90_21</td>\n",
       "      <td>NaN</td>\n",
       "      <td>0</td>\n",
       "    </tr>\n",
       "  </tbody>\n",
       "</table>\n",
       "</div>"
      ],
      "text/plain": [
       "        stop_id  stop_code                  stop_name  \\\n",
       "0       par_4_1          1          PLAZA DE CASTILLA   \n",
       "1     acc_4_1_1          1          Plaza de Castilla   \n",
       "2  acc_4_1_1040          1                   Ascensor   \n",
       "3  acc_4_1_1043          1  Intercambiador Superficie   \n",
       "4  acc_4_1_1044          1                   Ascensor   \n",
       "\n",
       "                      stop_desc  stop_lat  stop_lon zone_id  \\\n",
       "0    Paseo de la Castellana 189  40.46690  -3.68917       A   \n",
       "1    Paseo de la Castellana 189  40.46682  -3.68918     NaN   \n",
       "2           Plaza de Castilla 9  40.46555  -3.68877     NaN   \n",
       "3  Paseo de la Castellana 191 B  40.46728  -3.68915     NaN   \n",
       "4    Paseo de la Castellana 189  40.46702  -3.68918     NaN   \n",
       "\n",
       "             stop_url  location_type parent_station stop_timezone  \\\n",
       "0  http://www.crtm.es              0      est_90_21           NaN   \n",
       "1  http://www.crtm.es              2      est_90_21           NaN   \n",
       "2  http://www.crtm.es              2      est_90_21           NaN   \n",
       "3  http://www.crtm.es              2      est_90_21           NaN   \n",
       "4  http://www.crtm.es              2      est_90_21           NaN   \n",
       "\n",
       "   wheelchair_boarding  \n",
       "0                    0  \n",
       "1                    0  \n",
       "2                    0  \n",
       "3                    0  \n",
       "4                    0  "
      ]
     },
     "execution_count": 46,
     "metadata": {},
     "output_type": "execute_result"
    }
   ],
   "source": [
    "stops = pd.read_csv('data/MetroDeMadrid/gtfs/stops.txt') #loading the file into a dataframe\n",
    "\n",
    "stops.head() #printing to check"
   ]
  },
  {
   "cell_type": "code",
   "execution_count": 72,
   "metadata": {},
   "outputs": [
    {
     "name": "stdout",
     "output_type": "stream",
     "text": [
      "Module reloaded successfully!\n"
     ]
    }
   ],
   "source": [
    "import importlib #Made changes to MetroDeMadrid_db, so it had to be reloaded.\n",
    "import MetroDeMadrid_db #file that contains the db connection. Put it in a different directory for security. \n",
    "\n",
    "if importlib.reload(MetroDeMadrid_db):\n",
    "    print(\"Module reloaded successfully!\")"
   ]
  },
  {
   "cell_type": "code",
   "execution_count": 75,
   "metadata": {},
   "outputs": [
    {
     "name": "stdout",
     "output_type": "stream",
     "text": [
      "Error connecting to the database: ORA-28009: connection as SYS should be as SYSDBA or SYSOPER\n",
      "Help: https://docs.oracle.com/error-help/db/ora-28009/\n"
     ]
    }
   ],
   "source": [
    "import MetroDeMadrid_db\n",
    "\n",
    "try:\n",
    "    # Get the database connection\n",
    "    connection = MetroDeMadrid_db.get_connection()\n",
    "    print(\"Connection established successfully!\")\n",
    "\n",
    "    # Create a cursor to test a simple query\n",
    "    cursor = connection.cursor()\n",
    "    cursor.execute(\"SELECT * FROM DUAL\")  # Replace with a query valid for your Oracle DB\n",
    "\n",
    "    # Print the result of the query\n",
    "    for row in cursor:\n",
    "        print(row)\n",
    "\n",
    "    # Close the cursor and connection\n",
    "    cursor.close()\n",
    "    connection.close()\n",
    "    print(\"Connection closed successfully!\")\n",
    "\n",
    "except Exception as e:\n",
    "    print(f\"Error connecting to the database: {e}\")\n"
   ]
  },
  {
   "cell_type": "code",
   "execution_count": null,
   "metadata": {},
   "outputs": [],
   "source": []
  }
 ],
 "metadata": {
  "kernelspec": {
   "display_name": "Python 3",
   "language": "python",
   "name": "python3"
  },
  "language_info": {
   "codemirror_mode": {
    "name": "ipython",
    "version": 3
   },
   "file_extension": ".py",
   "mimetype": "text/x-python",
   "name": "python",
   "nbconvert_exporter": "python",
   "pygments_lexer": "ipython3",
   "version": "3.13.1"
  }
 },
 "nbformat": 4,
 "nbformat_minor": 2
}
